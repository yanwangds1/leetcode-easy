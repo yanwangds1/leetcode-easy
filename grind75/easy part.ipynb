{
 "cells": [
  {
   "cell_type": "code",
   "execution_count": 13,
   "id": "aa01c2c6",
   "metadata": {},
   "outputs": [],
   "source": [
    "class Solution(object):\n",
    "    def twoSum(self, nums, target):\n",
    "        \"\"\"\n",
    "        :type nums: List[int]\n",
    "        :type target: int\n",
    "        :rtype: List[int]\n",
    "        \"\"\"\n",
    "        \n",
    "        for i in range(len(nums)):\n",
    "            number_to_find = target - nums[i]\n",
    "            for j in range(i+1,len(nums)):\n",
    "                if nums[j] == number_to_find:\n",
    "                    return [i,j]\n"
   ]
  },
  {
   "cell_type": "code",
   "execution_count": 15,
   "id": "290585d1",
   "metadata": {},
   "outputs": [
    {
     "data": {
      "text/plain": [
       "[0, 3]"
      ]
     },
     "execution_count": 15,
     "metadata": {},
     "output_type": "execute_result"
    }
   ],
   "source": [
    "#Create an instance of the Solution class\n",
    "solution_instance = Solution()\n",
    "#Call the twoSum method on the instance\n",
    "nums = [2,1,3,7]\n",
    "target = 9\n",
    "result = solution_instance.twoSum(nums,target)\n",
    "result"
   ]
  },
  {
   "cell_type": "code",
   "execution_count": null,
   "id": "79246210",
   "metadata": {},
   "outputs": [],
   "source": [
    "# Valid Parentheses\n",
    "class Solution:\n",
    "    def isValid(self, s: str) -> bool:\n",
    "        stack = []\n",
    "        brackets = { '(': ')', '[': ']', '{': '}' }\n",
    "        for chr in s:\n",
    "            if chr in brackets.keys():\n",
    "                stack.append(brackets[chr])\n",
    "            else:\n",
    "                if not stack or chr != stack.pop():\n",
    "                    return False\n",
    "        return len(stack) == 0"
   ]
  },
  {
   "cell_type": "code",
   "execution_count": 15,
   "id": "50a65fa9",
   "metadata": {},
   "outputs": [],
   "source": [
    "class Solution:\n",
    "    def isValid(self, s:str) -> bool:\n",
    "        stack = []\n",
    "        brackets = {'(':')','[':']','{':'}'}\n",
    "        for chr in s:\n",
    "            if chr in brackets.keys():\n",
    "                stack.append(brackets[chr])\n",
    "            else:\n",
    "                if not stack or chr != stack.pop():\n",
    "                    return False\n",
    "        return len(stack)==0"
   ]
  },
  {
   "cell_type": "code",
   "execution_count": 16,
   "id": "a32aebf5",
   "metadata": {},
   "outputs": [
    {
     "data": {
      "text/plain": [
       "5"
      ]
     },
     "execution_count": 16,
     "metadata": {},
     "output_type": "execute_result"
    }
   ],
   "source": [
    "stack = [1,2,3,4,5]\n",
    "remove_element = stack.pop()\n",
    "remove_element"
   ]
  },
  {
   "cell_type": "code",
   "execution_count": 18,
   "id": "09c406ca",
   "metadata": {},
   "outputs": [
    {
     "data": {
      "text/plain": [
       "True"
      ]
     },
     "execution_count": 18,
     "metadata": {},
     "output_type": "execute_result"
    }
   ],
   "source": [
    "# Create an instance of solution class\n",
    "solution_instance = Solution()\n",
    "s = \"()[]{}\"\n",
    "# Call the isValid method on the instance\n",
    "result = solution_instance.isValid(s)\n",
    "result"
   ]
  },
  {
   "cell_type": "code",
   "execution_count": 19,
   "id": "070bbf50",
   "metadata": {},
   "outputs": [
    {
     "name": "stdout",
     "output_type": "stream",
     "text": [
      "List 1:\n",
      "1 -> 2 -> 3 -> 4 -> 5 -> 6 -> None\n",
      "\n",
      "List 2:\n",
      "2 -> 3 -> 4 -> 5 -> 6 -> None\n",
      "\n",
      "Merged List:\n",
      "1 -> 2 -> 3 -> 4 -> 5 -> 6 -> None\n"
     ]
    }
   ],
   "source": [
    "from typing import Optional\n",
    "\n",
    "class ListNode:\n",
    "    def __init__(self, value):\n",
    "        self.value = value\n",
    "        self.next = None\n",
    "\n",
    "class Solution:\n",
    "    def mergeTwoLists(self, list1: Optional[ListNode], list2: Optional[ListNode]) -> Optional[ListNode]:\n",
    "        # Create a dummy node to serve as the head of the merged list.\n",
    "        dummy = ListNode(None)\n",
    "        current = dummy\n",
    "\n",
    "        # Iterate while both lists have elements to compare.\n",
    "        while list1 is not None and list2 is not None:\n",
    "            if list1.value < list2.value:\n",
    "                # If the value in list1 is smaller, append it to the merged list.\n",
    "                current.next = list1\n",
    "                list1 = list1.next\n",
    "            else:\n",
    "                # If the value in list2 is smaller or equal, append it to the merged list.\n",
    "                current.next = list2\n",
    "                list2 = list2.next\n",
    "\n",
    "            current = current.next\n",
    "\n",
    "        # If one of the lists is not empty, append the remaining elements.\n",
    "        if list1 is not None:\n",
    "            current.next = list1\n",
    "        elif list2 is not None:\n",
    "            current.next = list2\n",
    "\n",
    "        return dummy.next  # Skip the dummy node to get the actual head of the merged list\n"
   ]
  },
  {
   "cell_type": "code",
   "execution_count": null,
   "id": "4debc847",
   "metadata": {},
   "outputs": [],
   "source": [
    "From typing import Optional\n",
    "class ListNode:\n",
    "    def __init__(self,value):\n",
    "        self.value = value\n",
    "        self.next = None\n",
    "class Solution:\n",
    "    def mergeTwolists(self,list1: Optional[ListNode], list2: Optional[ListNode]) ->Optional[ListNode]:\n",
    "        dummy = ListNode(None)\n",
    "        current = dummy\n",
    "        \n",
    "        while list1 is not None and list2 is not None:\n",
    "            if list1.value < list2.value:\n",
    "                current.next = list1\n",
    "                list1 = list1.next\n",
    "            else:\n",
    "                currect.next = list2\n",
    "                list2 = list2.next\n",
    "                \n",
    "            current = current.next\n",
    "        \n",
    "        if list1 is not None:\n",
    "            current.next = list1\n",
    "        if list2 is not None:\n",
    "            current.next = list2\n",
    "        \n",
    "        return dummy.next\n",
    "    "
   ]
  },
  {
   "cell_type": "code",
   "execution_count": 40,
   "id": "a83dfd4a",
   "metadata": {},
   "outputs": [
    {
     "name": "stdout",
     "output_type": "stream",
     "text": [
      "<__main__.ListNode object at 0x7fd950593a90>\n",
      "<__main__.ListNode object at 0x7fd950605250>\n",
      "<__main__.ListNode object at 0x7fd9507d31c0>\n",
      "None\n",
      "1\n",
      "<__main__.ListNode object at 0x7fd960de1fa0>\n"
     ]
    }
   ],
   "source": [
    "#Test example\n",
    "list1 = ListNode(1)\n",
    "list1.next = ListNode(3)\n",
    "list1.next.next = ListNode(5)\n",
    "print(list1)\n",
    "\n",
    "list2 = ListNode(2)\n",
    "list2.next = ListNode(4)\n",
    "list2.next.next = ListNode(6)\n",
    "print(list2)\n",
    "\n",
    "dummy = ListNode(None)\n",
    "print(dummy)\n",
    "current = dummy\n",
    "print(current.next)\n",
    "current.next = list1\n",
    "print(current.next.value)\n",
    "\n",
    "current.next = list2\n",
    "print(current.next.next )"
   ]
  },
  {
   "cell_type": "code",
   "execution_count": null,
   "id": "fb525fb4",
   "metadata": {},
   "outputs": [],
   "source": []
  },
  {
   "cell_type": "code",
   "execution_count": null,
   "id": "0eb65670",
   "metadata": {},
   "outputs": [],
   "source": [
    "\n",
    "# Test example\n",
    "def print_linked_list(head: Optional[ListNode]):\n",
    "    while head is not None:\n",
    "        print(head.value, end=\" -> \")\n",
    "        head = head.next\n",
    "    print(\"None\")\n",
    "\n",
    "# Creating two sorted linked lists\n",
    "list1 = ListNode(1)\n",
    "list1.next = ListNode(3)\n",
    "list1.next.next = ListNode(5)\n",
    "\n",
    "list2 = ListNode(2)\n",
    "list2.next = ListNode(4)\n",
    "list2.next.next = ListNode(6)\n",
    "\n",
    "# Creating an instance of the Solution class\n",
    "solution = Solution()\n",
    "\n",
    "# Merging the two lists using the mergeTwoLists method\n",
    "merged_list = solution.mergeTwoLists(list1, list2)\n",
    "\n",
    "# Printing the original lists and the merged list\n",
    "print(\"List 1:\")\n",
    "print_linked_list(list1)\n",
    "\n",
    "print(\"\\nList 2:\")\n",
    "print_linked_list(list2)\n",
    "\n",
    "print(\"\\nMerged List:\")\n",
    "print_linked_list(merged_list)\n"
   ]
  }
 ],
 "metadata": {
  "kernelspec": {
   "display_name": "Python 3 (ipykernel)",
   "language": "python",
   "name": "python3"
  },
  "language_info": {
   "codemirror_mode": {
    "name": "ipython",
    "version": 3
   },
   "file_extension": ".py",
   "mimetype": "text/x-python",
   "name": "python",
   "nbconvert_exporter": "python",
   "pygments_lexer": "ipython3",
   "version": "3.8.12"
  }
 },
 "nbformat": 4,
 "nbformat_minor": 5
}
